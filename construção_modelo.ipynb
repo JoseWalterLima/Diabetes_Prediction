{
  "nbformat": 4,
  "nbformat_minor": 0,
  "metadata": {
    "colab": {
      "name": "Desafio_Final.ipynb",
      "provenance": [],
      "toc_visible": true
    },
    "kernelspec": {
      "name": "python3",
      "display_name": "Python 3.9.2 64-bit ('diabetes': venv)",
      "metadata": {
        "interpreter": {
          "hash": "3b377b12ab587f22295973a5967b12adc6e92172e52c086b351700ccd14ebf41"
        }
      }
    }
  },
  "cells": [
    {
      "cell_type": "code",
      "execution_count": 1,
      "metadata": {},
      "outputs": [],
      "source": [
        "# Importing Pandas Library \n",
        "import pandas as pd"
      ]
    },
    {
      "cell_type": "code",
      "metadata": {
        "id": "zmljXxc8Swd3",
        "colab_type": "code",
        "colab": {}
      },
      "source": [
        "# Create Dataframe from diabetes CSV file\n",
        "df = pd.read_csv('diabetes.csv', header=None)\n",
        "df.head()"
      ],
      "execution_count": 2,
      "outputs": [
        {
          "output_type": "execute_result",
          "data": {
            "text/plain": [
              "   0    1   2   3    4     5      6   7  8\n",
              "0  6  148  72  35    0  33.6  0.627  50  1\n",
              "1  1   85  66  29    0  26.6  0.351  31  0\n",
              "2  8  183  64   0    0  23.3  0.672  32  1\n",
              "3  1   89  66  23   94  28.1  0.167  21  0\n",
              "4  0  137  40  35  168  43.1  2.288  33  1"
            ],
            "text/html": "<div>\n<style scoped>\n    .dataframe tbody tr th:only-of-type {\n        vertical-align: middle;\n    }\n\n    .dataframe tbody tr th {\n        vertical-align: top;\n    }\n\n    .dataframe thead th {\n        text-align: right;\n    }\n</style>\n<table border=\"1\" class=\"dataframe\">\n  <thead>\n    <tr style=\"text-align: right;\">\n      <th></th>\n      <th>0</th>\n      <th>1</th>\n      <th>2</th>\n      <th>3</th>\n      <th>4</th>\n      <th>5</th>\n      <th>6</th>\n      <th>7</th>\n      <th>8</th>\n    </tr>\n  </thead>\n  <tbody>\n    <tr>\n      <th>0</th>\n      <td>6</td>\n      <td>148</td>\n      <td>72</td>\n      <td>35</td>\n      <td>0</td>\n      <td>33.6</td>\n      <td>0.627</td>\n      <td>50</td>\n      <td>1</td>\n    </tr>\n    <tr>\n      <th>1</th>\n      <td>1</td>\n      <td>85</td>\n      <td>66</td>\n      <td>29</td>\n      <td>0</td>\n      <td>26.6</td>\n      <td>0.351</td>\n      <td>31</td>\n      <td>0</td>\n    </tr>\n    <tr>\n      <th>2</th>\n      <td>8</td>\n      <td>183</td>\n      <td>64</td>\n      <td>0</td>\n      <td>0</td>\n      <td>23.3</td>\n      <td>0.672</td>\n      <td>32</td>\n      <td>1</td>\n    </tr>\n    <tr>\n      <th>3</th>\n      <td>1</td>\n      <td>89</td>\n      <td>66</td>\n      <td>23</td>\n      <td>94</td>\n      <td>28.1</td>\n      <td>0.167</td>\n      <td>21</td>\n      <td>0</td>\n    </tr>\n    <tr>\n      <th>4</th>\n      <td>0</td>\n      <td>137</td>\n      <td>40</td>\n      <td>35</td>\n      <td>168</td>\n      <td>43.1</td>\n      <td>2.288</td>\n      <td>33</td>\n      <td>1</td>\n    </tr>\n  </tbody>\n</table>\n</div>"
          },
          "metadata": {},
          "execution_count": 2
        }
      ]
    },
    {
      "cell_type": "code",
      "execution_count": 3,
      "metadata": {},
      "outputs": [
        {
          "output_type": "execute_result",
          "data": {
            "text/plain": [
              "   Gravidez  Glicose  Pressão  Dobra  Insulina   IMC  Genética  Idade  \\\n",
              "0         6      148       72     35         0  33.6     0.627     50   \n",
              "1         1       85       66     29         0  26.6     0.351     31   \n",
              "2         8      183       64      0         0  23.3     0.672     32   \n",
              "3         1       89       66     23        94  28.1     0.167     21   \n",
              "4         0      137       40     35       168  43.1     2.288     33   \n",
              "\n",
              "   Diabetes  \n",
              "0         1  \n",
              "1         0  \n",
              "2         1  \n",
              "3         0  \n",
              "4         1  "
            ],
            "text/html": "<div>\n<style scoped>\n    .dataframe tbody tr th:only-of-type {\n        vertical-align: middle;\n    }\n\n    .dataframe tbody tr th {\n        vertical-align: top;\n    }\n\n    .dataframe thead th {\n        text-align: right;\n    }\n</style>\n<table border=\"1\" class=\"dataframe\">\n  <thead>\n    <tr style=\"text-align: right;\">\n      <th></th>\n      <th>Gravidez</th>\n      <th>Glicose</th>\n      <th>Pressão</th>\n      <th>Dobra</th>\n      <th>Insulina</th>\n      <th>IMC</th>\n      <th>Genética</th>\n      <th>Idade</th>\n      <th>Diabetes</th>\n    </tr>\n  </thead>\n  <tbody>\n    <tr>\n      <th>0</th>\n      <td>6</td>\n      <td>148</td>\n      <td>72</td>\n      <td>35</td>\n      <td>0</td>\n      <td>33.6</td>\n      <td>0.627</td>\n      <td>50</td>\n      <td>1</td>\n    </tr>\n    <tr>\n      <th>1</th>\n      <td>1</td>\n      <td>85</td>\n      <td>66</td>\n      <td>29</td>\n      <td>0</td>\n      <td>26.6</td>\n      <td>0.351</td>\n      <td>31</td>\n      <td>0</td>\n    </tr>\n    <tr>\n      <th>2</th>\n      <td>8</td>\n      <td>183</td>\n      <td>64</td>\n      <td>0</td>\n      <td>0</td>\n      <td>23.3</td>\n      <td>0.672</td>\n      <td>32</td>\n      <td>1</td>\n    </tr>\n    <tr>\n      <th>3</th>\n      <td>1</td>\n      <td>89</td>\n      <td>66</td>\n      <td>23</td>\n      <td>94</td>\n      <td>28.1</td>\n      <td>0.167</td>\n      <td>21</td>\n      <td>0</td>\n    </tr>\n    <tr>\n      <th>4</th>\n      <td>0</td>\n      <td>137</td>\n      <td>40</td>\n      <td>35</td>\n      <td>168</td>\n      <td>43.1</td>\n      <td>2.288</td>\n      <td>33</td>\n      <td>1</td>\n    </tr>\n  </tbody>\n</table>\n</div>"
          },
          "metadata": {},
          "execution_count": 3
        }
      ],
      "source": [
        "# Rename DataFrame columns \n",
        "df.rename(columns={0:'Gravidez', 1:'Glicose', 2: 'Pressão', 3: 'Dobra', 4: 'Insulina', 5: 'IMC', 6: 'Genética', 7: 'Idade', 8:'Diabetes'}, inplace=True)\n",
        "df.head()"
      ]
    },
    {
      "cell_type": "code",
      "execution_count": 4,
      "metadata": {},
      "outputs": [
        {
          "output_type": "execute_result",
          "data": {
            "text/plain": [
              "(768, 9)"
            ]
          },
          "metadata": {},
          "execution_count": 4
        }
      ],
      "source": [
        "# DataFrame size \n",
        "df.shape"
      ]
    },
    {
      "source": [
        "Na base existe um total de 768 mulheres. Não é um número necessariamente baixo, mas precisamos avaliar se alguns registros precisarão ser deletados para melhorar a análise. De toda forma é uma quantidade considerável de dados."
      ],
      "cell_type": "markdown",
      "metadata": {}
    },
    {
      "cell_type": "code",
      "metadata": {
        "id": "I77o7k2FToUp",
        "colab_type": "code",
        "colab": {
          "base_uri": "https://localhost:8080/",
          "height": 289
        },
        "outputId": "51509fc5-5328-42de-83de-cd1e442deee8"
      },
      "source": [
        "# Dataframe missing values analysis\n",
        "df.isna().sum()"
      ],
      "execution_count": 5,
      "outputs": [
        {
          "output_type": "execute_result",
          "data": {
            "text/plain": [
              "Gravidez    0\n",
              "Glicose     0\n",
              "Pressão     0\n",
              "Dobra       0\n",
              "Insulina    0\n",
              "IMC         0\n",
              "Genética    0\n",
              "Idade       0\n",
              "Diabetes    0\n",
              "dtype: int64"
            ]
          },
          "metadata": {},
          "execution_count": 5
        }
      ]
    },
    {
      "source": [
        "Por se tratar de uma base de dados já pronta, o tratamento dos dados faltantes (missing values) já foi realizado. Em praticamente todos os projetos essa é uma parte muito importante e não deve ser negligenciada."
      ],
      "cell_type": "markdown",
      "metadata": {}
    },
    {
      "cell_type": "code",
      "execution_count": 6,
      "metadata": {},
      "outputs": [
        {
          "output_type": "execute_result",
          "data": {
            "text/plain": [
              "          Gravidez   Glicose   Pressão     Dobra  Insulina       IMC  \\\n",
              "Gravidez  1.000000  0.129459  0.141282 -0.081672 -0.073535  0.017683   \n",
              "Glicose   0.129459  1.000000  0.152590  0.057328  0.331357  0.221071   \n",
              "Pressão   0.141282  0.152590  1.000000  0.207371  0.088933  0.281805   \n",
              "Dobra    -0.081672  0.057328  0.207371  1.000000  0.436783  0.392573   \n",
              "Insulina -0.073535  0.331357  0.088933  0.436783  1.000000  0.197859   \n",
              "IMC       0.017683  0.221071  0.281805  0.392573  0.197859  1.000000   \n",
              "Genética -0.033523  0.137337  0.041265  0.183928  0.185071  0.140647   \n",
              "Idade     0.544341  0.263514  0.239528 -0.113970 -0.042163  0.036242   \n",
              "Diabetes  0.221898  0.466581  0.065068  0.074752  0.130548  0.292695   \n",
              "\n",
              "          Genética     Idade  Diabetes  \n",
              "Gravidez -0.033523  0.544341  0.221898  \n",
              "Glicose   0.137337  0.263514  0.466581  \n",
              "Pressão   0.041265  0.239528  0.065068  \n",
              "Dobra     0.183928 -0.113970  0.074752  \n",
              "Insulina  0.185071 -0.042163  0.130548  \n",
              "IMC       0.140647  0.036242  0.292695  \n",
              "Genética  1.000000  0.033561  0.173844  \n",
              "Idade     0.033561  1.000000  0.238356  \n",
              "Diabetes  0.173844  0.238356  1.000000  "
            ],
            "text/html": "<div>\n<style scoped>\n    .dataframe tbody tr th:only-of-type {\n        vertical-align: middle;\n    }\n\n    .dataframe tbody tr th {\n        vertical-align: top;\n    }\n\n    .dataframe thead th {\n        text-align: right;\n    }\n</style>\n<table border=\"1\" class=\"dataframe\">\n  <thead>\n    <tr style=\"text-align: right;\">\n      <th></th>\n      <th>Gravidez</th>\n      <th>Glicose</th>\n      <th>Pressão</th>\n      <th>Dobra</th>\n      <th>Insulina</th>\n      <th>IMC</th>\n      <th>Genética</th>\n      <th>Idade</th>\n      <th>Diabetes</th>\n    </tr>\n  </thead>\n  <tbody>\n    <tr>\n      <th>Gravidez</th>\n      <td>1.000000</td>\n      <td>0.129459</td>\n      <td>0.141282</td>\n      <td>-0.081672</td>\n      <td>-0.073535</td>\n      <td>0.017683</td>\n      <td>-0.033523</td>\n      <td>0.544341</td>\n      <td>0.221898</td>\n    </tr>\n    <tr>\n      <th>Glicose</th>\n      <td>0.129459</td>\n      <td>1.000000</td>\n      <td>0.152590</td>\n      <td>0.057328</td>\n      <td>0.331357</td>\n      <td>0.221071</td>\n      <td>0.137337</td>\n      <td>0.263514</td>\n      <td>0.466581</td>\n    </tr>\n    <tr>\n      <th>Pressão</th>\n      <td>0.141282</td>\n      <td>0.152590</td>\n      <td>1.000000</td>\n      <td>0.207371</td>\n      <td>0.088933</td>\n      <td>0.281805</td>\n      <td>0.041265</td>\n      <td>0.239528</td>\n      <td>0.065068</td>\n    </tr>\n    <tr>\n      <th>Dobra</th>\n      <td>-0.081672</td>\n      <td>0.057328</td>\n      <td>0.207371</td>\n      <td>1.000000</td>\n      <td>0.436783</td>\n      <td>0.392573</td>\n      <td>0.183928</td>\n      <td>-0.113970</td>\n      <td>0.074752</td>\n    </tr>\n    <tr>\n      <th>Insulina</th>\n      <td>-0.073535</td>\n      <td>0.331357</td>\n      <td>0.088933</td>\n      <td>0.436783</td>\n      <td>1.000000</td>\n      <td>0.197859</td>\n      <td>0.185071</td>\n      <td>-0.042163</td>\n      <td>0.130548</td>\n    </tr>\n    <tr>\n      <th>IMC</th>\n      <td>0.017683</td>\n      <td>0.221071</td>\n      <td>0.281805</td>\n      <td>0.392573</td>\n      <td>0.197859</td>\n      <td>1.000000</td>\n      <td>0.140647</td>\n      <td>0.036242</td>\n      <td>0.292695</td>\n    </tr>\n    <tr>\n      <th>Genética</th>\n      <td>-0.033523</td>\n      <td>0.137337</td>\n      <td>0.041265</td>\n      <td>0.183928</td>\n      <td>0.185071</td>\n      <td>0.140647</td>\n      <td>1.000000</td>\n      <td>0.033561</td>\n      <td>0.173844</td>\n    </tr>\n    <tr>\n      <th>Idade</th>\n      <td>0.544341</td>\n      <td>0.263514</td>\n      <td>0.239528</td>\n      <td>-0.113970</td>\n      <td>-0.042163</td>\n      <td>0.036242</td>\n      <td>0.033561</td>\n      <td>1.000000</td>\n      <td>0.238356</td>\n    </tr>\n    <tr>\n      <th>Diabetes</th>\n      <td>0.221898</td>\n      <td>0.466581</td>\n      <td>0.065068</td>\n      <td>0.074752</td>\n      <td>0.130548</td>\n      <td>0.292695</td>\n      <td>0.173844</td>\n      <td>0.238356</td>\n      <td>1.000000</td>\n    </tr>\n  </tbody>\n</table>\n</div>"
          },
          "metadata": {},
          "execution_count": 6
        }
      ],
      "source": [
        "# Evaluating features general correlation\n",
        "df.corr()"
      ]
    },
    {
      "cell_type": "code",
      "metadata": {
        "id": "F7xCDKHn_nUV",
        "colab_type": "code",
        "colab": {
          "base_uri": "https://localhost:8080/",
          "height": 297
        },
        "outputId": "c73ce505-183b-4e81-d172-18c9426fdcb7"
      },
      "source": [
        "# DataFrame general statistics\n",
        "df.describe()"
      ],
      "execution_count": 7,
      "outputs": [
        {
          "output_type": "execute_result",
          "data": {
            "text/plain": [
              "         Gravidez     Glicose     Pressão       Dobra    Insulina         IMC  \\\n",
              "count  768.000000  768.000000  768.000000  768.000000  768.000000  768.000000   \n",
              "mean     3.845052  120.894531   69.105469   20.536458   79.799479   31.992578   \n",
              "std      3.369578   31.972618   19.355807   15.952218  115.244002    7.884160   \n",
              "min      0.000000    0.000000    0.000000    0.000000    0.000000    0.000000   \n",
              "25%      1.000000   99.000000   62.000000    0.000000    0.000000   27.300000   \n",
              "50%      3.000000  117.000000   72.000000   23.000000   30.500000   32.000000   \n",
              "75%      6.000000  140.250000   80.000000   32.000000  127.250000   36.600000   \n",
              "max     17.000000  199.000000  122.000000   99.000000  846.000000   67.100000   \n",
              "\n",
              "         Genética       Idade    Diabetes  \n",
              "count  768.000000  768.000000  768.000000  \n",
              "mean     0.471876   33.240885    0.348958  \n",
              "std      0.331329   11.760232    0.476951  \n",
              "min      0.078000   21.000000    0.000000  \n",
              "25%      0.243750   24.000000    0.000000  \n",
              "50%      0.372500   29.000000    0.000000  \n",
              "75%      0.626250   41.000000    1.000000  \n",
              "max      2.420000   81.000000    1.000000  "
            ],
            "text/html": "<div>\n<style scoped>\n    .dataframe tbody tr th:only-of-type {\n        vertical-align: middle;\n    }\n\n    .dataframe tbody tr th {\n        vertical-align: top;\n    }\n\n    .dataframe thead th {\n        text-align: right;\n    }\n</style>\n<table border=\"1\" class=\"dataframe\">\n  <thead>\n    <tr style=\"text-align: right;\">\n      <th></th>\n      <th>Gravidez</th>\n      <th>Glicose</th>\n      <th>Pressão</th>\n      <th>Dobra</th>\n      <th>Insulina</th>\n      <th>IMC</th>\n      <th>Genética</th>\n      <th>Idade</th>\n      <th>Diabetes</th>\n    </tr>\n  </thead>\n  <tbody>\n    <tr>\n      <th>count</th>\n      <td>768.000000</td>\n      <td>768.000000</td>\n      <td>768.000000</td>\n      <td>768.000000</td>\n      <td>768.000000</td>\n      <td>768.000000</td>\n      <td>768.000000</td>\n      <td>768.000000</td>\n      <td>768.000000</td>\n    </tr>\n    <tr>\n      <th>mean</th>\n      <td>3.845052</td>\n      <td>120.894531</td>\n      <td>69.105469</td>\n      <td>20.536458</td>\n      <td>79.799479</td>\n      <td>31.992578</td>\n      <td>0.471876</td>\n      <td>33.240885</td>\n      <td>0.348958</td>\n    </tr>\n    <tr>\n      <th>std</th>\n      <td>3.369578</td>\n      <td>31.972618</td>\n      <td>19.355807</td>\n      <td>15.952218</td>\n      <td>115.244002</td>\n      <td>7.884160</td>\n      <td>0.331329</td>\n      <td>11.760232</td>\n      <td>0.476951</td>\n    </tr>\n    <tr>\n      <th>min</th>\n      <td>0.000000</td>\n      <td>0.000000</td>\n      <td>0.000000</td>\n      <td>0.000000</td>\n      <td>0.000000</td>\n      <td>0.000000</td>\n      <td>0.078000</td>\n      <td>21.000000</td>\n      <td>0.000000</td>\n    </tr>\n    <tr>\n      <th>25%</th>\n      <td>1.000000</td>\n      <td>99.000000</td>\n      <td>62.000000</td>\n      <td>0.000000</td>\n      <td>0.000000</td>\n      <td>27.300000</td>\n      <td>0.243750</td>\n      <td>24.000000</td>\n      <td>0.000000</td>\n    </tr>\n    <tr>\n      <th>50%</th>\n      <td>3.000000</td>\n      <td>117.000000</td>\n      <td>72.000000</td>\n      <td>23.000000</td>\n      <td>30.500000</td>\n      <td>32.000000</td>\n      <td>0.372500</td>\n      <td>29.000000</td>\n      <td>0.000000</td>\n    </tr>\n    <tr>\n      <th>75%</th>\n      <td>6.000000</td>\n      <td>140.250000</td>\n      <td>80.000000</td>\n      <td>32.000000</td>\n      <td>127.250000</td>\n      <td>36.600000</td>\n      <td>0.626250</td>\n      <td>41.000000</td>\n      <td>1.000000</td>\n    </tr>\n    <tr>\n      <th>max</th>\n      <td>17.000000</td>\n      <td>199.000000</td>\n      <td>122.000000</td>\n      <td>99.000000</td>\n      <td>846.000000</td>\n      <td>67.100000</td>\n      <td>2.420000</td>\n      <td>81.000000</td>\n      <td>1.000000</td>\n    </tr>\n  </tbody>\n</table>\n</div>"
          },
          "metadata": {},
          "execution_count": 7
        }
      ]
    },
    {
      "source": [
        "**Gravidez**: Aparentemente tem distribuição normal, mas com uma variância muito grande. O valor máximo como 17 não é impossível, mas pode estar distorcido da maioria. Deve ser avaliado.\t\n",
        "**Glicose**: Distribuição normal (média e mediana parecidas) e aparentemente o único problema são os valores zero.\t\n",
        "**Pressão**: Distribuição normal, o problema são os valores zero.\t\t\n",
        "**Dobra**: Distribuição normal, um problema são os valores zero.\t\n",
        "**Insulina**: Distribuição muito estranha. Presica ser melhor avaliado.\t\n",
        "**IMC**: Distribuição normal, o problema são os valores zero.\t\t\t\n",
        "**Genética**: Distribuição parece normal, apesar da grande variância. Maior problema são valores aima de 1.\t\n",
        "**Idade**: Distribuição normal, aparentement tudo certo.\t\n",
        "**Diabetes**: Deve ser avaliada a distribuição de cada classe."
      ],
      "cell_type": "markdown",
      "metadata": {}
    },
    {
      "cell_type": "code",
      "execution_count": 8,
      "metadata": {},
      "outputs": [
        {
          "output_type": "execute_result",
          "data": {
            "text/plain": [
              "1     135\n",
              "0     111\n",
              "2     103\n",
              "3      75\n",
              "4      68\n",
              "5      57\n",
              "6      50\n",
              "7      45\n",
              "8      38\n",
              "9      28\n",
              "10     24\n",
              "11     11\n",
              "13     10\n",
              "12      9\n",
              "14      2\n",
              "15      1\n",
              "17      1\n",
              "Name: Gravidez, dtype: int64"
            ]
          },
          "metadata": {},
          "execution_count": 8
        }
      ],
      "source": [
        "# Gravidez\n",
        "df.Gravidez.value_counts()"
      ]
    },
    {
      "cell_type": "code",
      "execution_count": 4,
      "metadata": {},
      "outputs": [
        {
          "output_type": "execute_result",
          "data": {
            "text/plain": [
              "(754, 9)"
            ]
          },
          "metadata": {},
          "execution_count": 4
        }
      ],
      "source": [
        "# Drop low frequency cases\n",
        "df = df.loc[df.Gravidez <= 12]\n",
        "df.shape"
      ]
    },
    {
      "source": [
        "# Importing libraries\n",
        "from sklearn.preprocessing import MinMaxScaler # Data transformation \n",
        "from sklearn.model_selection import train_test_split # Data slicing\n",
        "from sklearn.tree import DecisionTreeClassifier # Decision Tree model\n",
        "from sklearn.metrics import classification_report, confusion_matrix, accuracy_score # Methods to evaluate model \n",
        "import joblib # Model persistence"
      ],
      "cell_type": "code",
      "metadata": {
        "id": "n4jNHi1-Pjkb",
        "colab_type": "code",
        "colab": {}
      },
      "execution_count": null,
      "outputs": []
    },
    {
      "cell_type": "code",
      "metadata": {
        "id": "LX4NuVaaUad-",
        "colab_type": "code",
        "colab": {}
      },
      "source": [
        "# Dataframe general stats \n",
        "df2 = df.loc[df[8]==1]"
      ],
      "execution_count": null,
      "outputs": []
    },
    {
      "cell_type": "code",
      "metadata": {
        "id": "vEbZsaO--_ZZ",
        "colab_type": "code",
        "colab": {
          "base_uri": "https://localhost:8080/",
          "height": 297
        },
        "outputId": "e9fd015e-4441-4bbe-c468-086d676f21f6"
      },
      "source": [
        "df2.describe()"
      ],
      "execution_count": null,
      "outputs": []
    },
    {
      "cell_type": "code",
      "metadata": {
        "id": "3OOXrzA7_P_d",
        "colab_type": "code",
        "colab": {}
      },
      "source": [
        "df3 = df.loc[df[8]==0]"
      ],
      "execution_count": null,
      "outputs": []
    },
    {
      "cell_type": "code",
      "metadata": {
        "id": "n3WB92r2_WX9",
        "colab_type": "code",
        "colab": {
          "base_uri": "https://localhost:8080/",
          "height": 297
        },
        "outputId": "75a646bf-c0c0-4f0a-ed3d-a6de93141b61"
      },
      "source": [
        "df3.describe()"
      ],
      "execution_count": null,
      "outputs": []
    },
    {
      "cell_type": "code",
      "metadata": {
        "id": "tyHH9UaFUmwF",
        "colab_type": "code",
        "colab": {
          "base_uri": "https://localhost:8080/",
          "height": 68
        },
        "outputId": "a7f076d5-76b3-454a-c558-38f69ebd4ac4"
      },
      "source": [
        "# Amount of Diabetes event\n",
        "df[8].value_counts()"
      ],
      "execution_count": null,
      "outputs": []
    },
    {
      "cell_type": "markdown",
      "metadata": {
        "id": "B4sJKNhJUy8-",
        "colab_type": "text"
      },
      "source": [
        "# **Construção dos Modelos e Previsão**"
      ]
    },
    {
      "cell_type": "code",
      "metadata": {
        "id": "tqKzlpSFU0gk",
        "colab_type": "code",
        "colab": {}
      },
      "source": [
        "# Data Normalization \n",
        "raw_variables = [0, 1, 2, 3, 4, 5, 6, 7]\n",
        "adjusted_variables = MinMaxScaler()"
      ],
      "execution_count": null,
      "outputs": []
    },
    {
      "cell_type": "code",
      "metadata": {
        "id": "HlXssRZUVKMD",
        "colab_type": "code",
        "colab": {}
      },
      "source": [
        "# Defining input and output variables\n",
        "input_variables = adjusted_variables.fit_transform(df[raw_variables])\n",
        "output_variables = df[8]"
      ],
      "execution_count": null,
      "outputs": []
    },
    {
      "cell_type": "code",
      "metadata": {
        "id": "sPziPRrzAAgV",
        "colab_type": "code",
        "colab": {
          "base_uri": "https://localhost:8080/",
          "height": 297
        },
        "outputId": "3f65e3a0-7a91-426b-9bf8-9c910ec9242d"
      },
      "source": [
        "resumo_normalizacao = pd.DataFrame(data=input_variables)\n",
        "resumo_normalizacao.describe()"
      ],
      "execution_count": null,
      "outputs": []
    },
    {
      "cell_type": "code",
      "metadata": {
        "id": "sacao5AvVO9F",
        "colab_type": "code",
        "colab": {}
      },
      "source": [
        "# Assign variables to Train and Test slices\n",
        "x = input_variables   \n",
        "y = output_variables\n",
        "\n",
        "# Dataframe to Train and Test slices\n",
        "x_train, x_test, y_train, y_test = train_test_split(x, y, test_size=0.30,random_state=42)"
      ],
      "execution_count": null,
      "outputs": []
    },
    {
      "cell_type": "markdown",
      "metadata": {
        "id": "6rxHWKctVWDB",
        "colab_type": "text"
      },
      "source": [
        "**KNN (K nearest neighbor)**"
      ]
    },
    {
      "cell_type": "code",
      "metadata": {
        "id": "sDzFc7z8VXMo",
        "colab_type": "code",
        "colab": {}
      },
      "source": [
        "# Building KNN model with 5 neighbors (K=5)\n",
        "clf_KNN = KNeighborsClassifier(n_neighbors=5)\n",
        "\n",
        "# Training the KNN model\n",
        "clf_KNN.fit(x_train, y_train)\n",
        "\n",
        "# Testing the KNN model\n",
        "y_forecast_KNN = clf_KNN.predict(x_test)"
      ],
      "execution_count": null,
      "outputs": []
    },
    {
      "cell_type": "markdown",
      "metadata": {
        "id": "V3FJsrtUViML",
        "colab_type": "text"
      },
      "source": [
        "**Decision Tree**"
      ]
    },
    {
      "cell_type": "code",
      "metadata": {
        "id": "qheCgl5dVh3g",
        "colab_type": "code",
        "colab": {}
      },
      "source": [
        "# Building Tree model \n",
        "clf_tree = DecisionTreeClassifier(random_state=1)\n",
        "\n",
        "# Training the Tree model\n",
        "clf_tree.fit(x_train, y_train)\n",
        "\n",
        "# Testing the Tree model\n",
        "y_forecast_tree = clf_tree.predict(x_test)"
      ],
      "execution_count": null,
      "outputs": []
    },
    {
      "cell_type": "markdown",
      "metadata": {
        "id": "BU8gaG43VoBM",
        "colab_type": "text"
      },
      "source": [
        "**Multilayer Perceptron (MLP)**"
      ]
    },
    {
      "cell_type": "code",
      "metadata": {
        "id": "-DhwJyqSVns2",
        "colab_type": "code",
        "colab": {
          "base_uri": "https://localhost:8080/",
          "height": 139
        },
        "outputId": "449a798c-a0d4-4ba9-ff44-2f6847574d3f"
      },
      "source": [
        "# Building MLP model\n",
        "clf_mlp = MLPClassifier(solver='lbfgs', alpha=1e-5, hidden_layer_sizes=(5, 10), random_state=1)\n",
        "\n",
        "# Training MLP model\n",
        "clf_mlp.fit(x_train, y_train)\n",
        "\n",
        "# Testing MLP model\n",
        "y_forecast_mlp = clf_mlp.predict(x_test)"
      ],
      "execution_count": null,
      "outputs": []
    },
    {
      "cell_type": "markdown",
      "metadata": {
        "id": "b40a90WTV1Fq",
        "colab_type": "text"
      },
      "source": [
        "**Evaluating Model Accuracy**"
      ]
    },
    {
      "cell_type": "code",
      "metadata": {
        "id": "Gx5jNNOQV0xg",
        "colab_type": "code",
        "colab": {
          "base_uri": "https://localhost:8080/",
          "height": 68
        },
        "outputId": "3a061704-34d9-4614-c418-c1ae89d47d8c"
      },
      "source": [
        "# Comparing models accuracy\n",
        "print(f'Acurácia do Modelo KNN: {accuracy_score(y_test, y_forecast_KNN)*100}')\n",
        "print(f'Acurácia do Modelo Decision Tree: {accuracy_score(y_test, y_forecast_tree)*100}')\n",
        "print(f'Acurácia do Modelo MLP: {accuracy_score(y_test, y_forecast_mlp)*100}')"
      ],
      "execution_count": null,
      "outputs": []
    },
    {
      "cell_type": "markdown",
      "metadata": {
        "id": "z0JOCWDQV_m4",
        "colab_type": "text"
      },
      "source": [
        "# **Salvando Melhor Modelo**"
      ]
    },
    {
      "cell_type": "code",
      "metadata": {
        "id": "XUTc_xp8V_W1",
        "colab_type": "code",
        "colab": {
          "base_uri": "https://localhost:8080/",
          "height": 34
        },
        "outputId": "d89a018f-e1f2-4ce6-a87f-e3960b8f9afa"
      },
      "source": [
        "# Save best model as a file\n",
        "mlp_model = 'mlp_model.sav'\n",
        "joblib.dump(clf_mlp, mlp_model)"
      ],
      "execution_count": null,
      "outputs": []
    },
    {
      "cell_type": "markdown",
      "metadata": {
        "id": "RwOThB1nMkGF",
        "colab_type": "text"
      },
      "source": [
        "# **Salvando a Normalização dos Dados**"
      ]
    },
    {
      "cell_type": "code",
      "metadata": {
        "id": "47Ziv3POMjcD",
        "colab_type": "code",
        "colab": {
          "base_uri": "https://localhost:8080/",
          "height": 34
        },
        "outputId": "7e458902-9dd4-4401-cedd-316092f6b820"
      },
      "source": [
        "# Save transform method\n",
        "scale_data = \"normalização.sav\"\n",
        "joblib.dump(adjusted_variables, scale_data)"
      ],
      "execution_count": null,
      "outputs": []
    }
  ]
}